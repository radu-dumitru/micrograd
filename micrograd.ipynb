{
  "cells": [
    {
      "cell_type": "markdown",
      "metadata": {
        "id": "view-in-github",
        "colab_type": "text"
      },
      "source": [
        "<a href=\"https://colab.research.google.com/github/radu-dumitru/micrograd/blob/main/micrograd.ipynb\" target=\"_parent\"><img src=\"https://colab.research.google.com/assets/colab-badge.svg\" alt=\"Open In Colab\"/></a>"
      ]
    },
    {
      "cell_type": "code",
      "execution_count": null,
      "metadata": {
        "id": "MMSCLDq_gx3r"
      },
      "outputs": [],
      "source": [
        "import math\n",
        "import random"
      ]
    },
    {
      "cell_type": "code",
      "execution_count": null,
      "metadata": {
        "id": "GFqZeFrFXZ-E"
      },
      "outputs": [],
      "source": [
        "class Value:\n",
        "  def __init__(self, data, _children = (), _op = '', label = ''):\n",
        "    self.data = data\n",
        "    self.grad = 0.0\n",
        "    self._backward = lambda: None\n",
        "    self._prev = set(_children)\n",
        "    self._op = _op\n",
        "    self.label = label\n",
        "\n",
        "  def __repr__(self):\n",
        "    return f\"Value(data={self.data})\"\n",
        "\n",
        "  def __add__(self, other):\n",
        "    other = other if isinstance(other, Value) else Value(other)\n",
        "    # a = Value(2.0)\n",
        "    # b = Value(3.0)\n",
        "    # a + b => python will call a.__add__(b)\n",
        "    out = Value(self.data + other.data, (self, other), '+')\n",
        "\n",
        "    def _backward():\n",
        "      self.grad += 1.0 * out.grad\n",
        "      other.grad += 1.0 * out.grad\n",
        "    out._backward = _backward\n",
        "\n",
        "    return out\n",
        "\n",
        "  def __radd__(self, other): # other + self\n",
        "    return self + other\n",
        "\n",
        "  def __mul__(self, other):\n",
        "    other = other if isinstance(other, Value) else Value(other)\n",
        "    out = Value(self.data * other.data, (self, other), '*')\n",
        "\n",
        "    def _backward():\n",
        "      self.grad += other.data * out.grad\n",
        "      other.grad += self.data * out.grad\n",
        "    out._backward = _backward\n",
        "\n",
        "    return out\n",
        "\n",
        "  def __rmul__(self, other): # other * self\n",
        "    return self * other\n",
        "\n",
        "  def __truediv__(self, other): # self / other\n",
        "    return self * other**-1\n",
        "\n",
        "  def __pow__(self, other):\n",
        "    assert isinstance(other, (int, float)), \"only supporting int/float powers for now\"\n",
        "    out = Value(self.data**other, (self,), f'**{other}')\n",
        "\n",
        "    def _backward():\n",
        "        self.grad += other * (self.data ** (other - 1)) * out.grad\n",
        "    out._backward = _backward\n",
        "\n",
        "    return out\n",
        "\n",
        "  def __neg__(self): # -self\n",
        "    return self * -1\n",
        "\n",
        "  def __sub__(self, other): # self - other\n",
        "    return self + (-other)\n",
        "\n",
        "  def tanh(self):\n",
        "    x = self.data\n",
        "    t = (math.exp(2*x) - 1)/(math.exp(2*x) + 1)\n",
        "    out = Value(t, (self, ), 'tanh')\n",
        "\n",
        "    def _backward():\n",
        "      self.grad += (1 - t**2) * out.grad\n",
        "    out._backward = _backward\n",
        "\n",
        "\n",
        "    return out\n",
        "\n",
        "  def exp(self):\n",
        "    x = self.data\n",
        "    out = Value(math.exp(x), (self, ), 'exp')\n",
        "\n",
        "    def _backward():\n",
        "      self.grad += out.data * out.grad\n",
        "    out._backward = _backward\n",
        "\n",
        "    return out\n",
        "\n",
        "  def backward(self):\n",
        "\n",
        "    topo = []\n",
        "    visited = set()\n",
        "    def build_topo(v):\n",
        "      if v not in visited:\n",
        "        visited.add(v)\n",
        "        for child in v._prev:\n",
        "          build_topo(child)\n",
        "        topo.append(v)\n",
        "    build_topo(self)\n",
        "\n",
        "    self.grad = 1.0\n",
        "    for node in reversed(topo):\n",
        "      node._backward()"
      ]
    },
    {
      "cell_type": "code",
      "execution_count": null,
      "metadata": {
        "id": "zvNy-MFU4LbX"
      },
      "outputs": [],
      "source": [
        "class Neuron:\n",
        "\n",
        "  def __init__(self, nin):\n",
        "    self.w = [Value(random.uniform(-1,1)) for _ in range(nin)]\n",
        "    self.b = Value(random.uniform(-1,1))\n",
        "\n",
        "  def __call__(self, x):\n",
        "    # w * x + b\n",
        "    act = sum((wi*xi for wi, xi in zip(self.w, x)), self.b)\n",
        "    out = act.tanh()\n",
        "    return out\n",
        "\n",
        "  def parameters(self):\n",
        "    return self.w + [self.b]\n",
        "\n",
        "\n",
        "class Layer:\n",
        "\n",
        "  def __init__(self, nin, nout):\n",
        "    self.neurons = [Neuron(nin) for _ in range(nout)]\n",
        "\n",
        "  def __call__(self, x):\n",
        "    outs = [n(x) for n in self.neurons]\n",
        "    return outs[0] if len(outs) == 1 else outs\n",
        "\n",
        "  def parameters(self):\n",
        "    return [p for neuron in self.neurons for p in neuron.parameters()]\n",
        "\n",
        "\n",
        "class MLP:\n",
        "\n",
        "  def __init__(self, nin, nouts):\n",
        "    sz = [nin] + nouts\n",
        "    self.layers = [Layer(sz[i], sz[i+1]) for i in range(len(nouts))]\n",
        "\n",
        "  def __call__(self, x):\n",
        "    for layer in self.layers:\n",
        "      x = layer(x)\n",
        "    return x\n",
        "\n",
        "  def parameters(self):\n",
        "    return [p for layer in self.layers for p in layer.parameters()]"
      ]
    },
    {
      "cell_type": "code",
      "execution_count": null,
      "metadata": {
        "id": "2s_cNEp6jRNR"
      },
      "outputs": [],
      "source": [
        "from graphviz import Digraph\n",
        "\n",
        "def trace(root):\n",
        "    nodes, edges = set(), set()\n",
        "    def build(v):\n",
        "        if v not in nodes:\n",
        "            nodes.add(v)\n",
        "            for child in v._prev:\n",
        "                edges.add((child, v))\n",
        "                build(child)\n",
        "    build(root)\n",
        "    return nodes, edges\n",
        "\n",
        "def draw_dot(root, format='svg', rankdir='LR'):\n",
        "    \"\"\"\n",
        "    format: png | svg | ...\n",
        "    rankdir: TB (top to bottom graph) | LR (left to right)\n",
        "    \"\"\"\n",
        "    assert rankdir in ['LR', 'TB']\n",
        "    nodes, edges = trace(root)\n",
        "    dot = Digraph(format=format, graph_attr={'rankdir': rankdir}) #, node_attr={'rankdir': 'TB'})\n",
        "\n",
        "    for n in nodes:\n",
        "        dot.node(name=str(id(n)), label = \"{ %s | data %.4f | grad %.4f }\" % (n.label, n.data, n.grad), shape='record')\n",
        "        if n._op:\n",
        "            dot.node(name=str(id(n)) + n._op, label=n._op)\n",
        "            dot.edge(str(id(n)) + n._op, str(id(n)))\n",
        "\n",
        "    for n1, n2 in edges:\n",
        "        dot.edge(str(id(n1)), str(id(n2)) + n2._op)\n",
        "\n",
        "    return dot"
      ]
    },
    {
      "cell_type": "code",
      "execution_count": null,
      "metadata": {
        "colab": {
          "base_uri": "https://localhost:8080/",
          "height": 360
        },
        "id": "taMU7LZTgcXk",
        "outputId": "e639f520-9987-48fc-e675-d49b289653a8"
      },
      "outputs": [
        {
          "output_type": "execute_result",
          "data": {
            "image/svg+xml": "<?xml version=\"1.0\" encoding=\"UTF-8\" standalone=\"no\"?>\n<!DOCTYPE svg PUBLIC \"-//W3C//DTD SVG 1.1//EN\"\n \"http://www.w3.org/Graphics/SVG/1.1/DTD/svg11.dtd\">\n<!-- Generated by graphviz version 2.43.0 (0)\n -->\n<!-- Title: %3 Pages: 1 -->\n<svg width=\"2944pt\" height=\"239pt\"\n viewBox=\"0.00 0.00 2944.00 239.00\" xmlns=\"http://www.w3.org/2000/svg\" xmlns:xlink=\"http://www.w3.org/1999/xlink\">\n<g id=\"graph0\" class=\"graph\" transform=\"scale(1 1) rotate(0) translate(4 235)\">\n<title>%3</title>\n<polygon fill=\"white\" stroke=\"transparent\" points=\"-4,4 -4,-235 2940,-235 2940,4 -4,4\"/>\n<!-- 131986095853584 -->\n<g id=\"node1\" class=\"node\">\n<title>131986095853584</title>\n<polygon fill=\"none\" stroke=\"black\" points=\"1690,-110.5 1690,-146.5 1877,-146.5 1877,-110.5 1690,-110.5\"/>\n<text text-anchor=\"middle\" x=\"1700\" y=\"-124.8\" font-family=\"Times,serif\" font-size=\"14.00\"> </text>\n<polyline fill=\"none\" stroke=\"black\" points=\"1710,-110.5 1710,-146.5 \"/>\n<text text-anchor=\"middle\" x=\"1752.5\" y=\"-124.8\" font-family=\"Times,serif\" font-size=\"14.00\">data &#45;1.0000</text>\n<polyline fill=\"none\" stroke=\"black\" points=\"1795,-110.5 1795,-146.5 \"/>\n<text text-anchor=\"middle\" x=\"1836\" y=\"-124.8\" font-family=\"Times,serif\" font-size=\"14.00\">grad 0.1464</text>\n</g>\n<!-- 131986095852176+ -->\n<g id=\"node7\" class=\"node\">\n<title>131986095852176+</title>\n<ellipse fill=\"none\" stroke=\"black\" cx=\"1940\" cy=\"-100.5\" rx=\"27\" ry=\"18\"/>\n<text text-anchor=\"middle\" x=\"1940\" y=\"-96.8\" font-family=\"Times,serif\" font-size=\"14.00\">+</text>\n</g>\n<!-- 131986095853584&#45;&gt;131986095852176+ -->\n<g id=\"edge16\" class=\"edge\">\n<title>131986095853584&#45;&gt;131986095852176+</title>\n<path fill=\"none\" stroke=\"black\" d=\"M1877.05,-111.73C1886.54,-110.01 1895.71,-108.35 1903.95,-106.85\"/>\n<polygon fill=\"black\" stroke=\"black\" points=\"1904.64,-110.28 1913.85,-105.06 1903.39,-103.4 1904.64,-110.28\"/>\n</g>\n<!-- 131986095851088 -->\n<g id=\"node2\" class=\"node\">\n<title>131986095851088</title>\n<polygon fill=\"none\" stroke=\"black\" points=\"0,-194.5 0,-230.5 200,-230.5 200,-194.5 0,-194.5\"/>\n<text text-anchor=\"middle\" x=\"16.5\" y=\"-208.8\" font-family=\"Times,serif\" font-size=\"14.00\">w1</text>\n<polyline fill=\"none\" stroke=\"black\" points=\"33,-194.5 33,-230.5 \"/>\n<text text-anchor=\"middle\" x=\"75.5\" y=\"-208.8\" font-family=\"Times,serif\" font-size=\"14.00\">data &#45;3.0000</text>\n<polyline fill=\"none\" stroke=\"black\" points=\"118,-194.5 118,-230.5 \"/>\n<text text-anchor=\"middle\" x=\"159\" y=\"-208.8\" font-family=\"Times,serif\" font-size=\"14.00\">grad 1.0000</text>\n</g>\n<!-- 131986095858896* -->\n<g id=\"node13\" class=\"node\">\n<title>131986095858896*</title>\n<ellipse fill=\"none\" stroke=\"black\" cx=\"263\" cy=\"-157.5\" rx=\"27\" ry=\"18\"/>\n<text text-anchor=\"middle\" x=\"263\" y=\"-153.8\" font-family=\"Times,serif\" font-size=\"14.00\">*</text>\n</g>\n<!-- 131986095851088&#45;&gt;131986095858896* -->\n<g id=\"edge24\" class=\"edge\">\n<title>131986095851088&#45;&gt;131986095858896*</title>\n<path fill=\"none\" stroke=\"black\" d=\"M172.53,-194.44C181.84,-191.67 191.2,-188.67 200,-185.5 210.53,-181.71 221.75,-176.9 231.72,-172.33\"/>\n<polygon fill=\"black\" stroke=\"black\" points=\"233.25,-175.48 240.82,-168.07 230.28,-169.14 233.25,-175.48\"/>\n</g>\n<!-- 131986095864912 -->\n<g id=\"node3\" class=\"node\">\n<title>131986095864912</title>\n<polygon fill=\"none\" stroke=\"black\" points=\"2,-139.5 2,-175.5 198,-175.5 198,-139.5 2,-139.5\"/>\n<text text-anchor=\"middle\" x=\"17\" y=\"-153.8\" font-family=\"Times,serif\" font-size=\"14.00\">x1</text>\n<polyline fill=\"none\" stroke=\"black\" points=\"32,-139.5 32,-175.5 \"/>\n<text text-anchor=\"middle\" x=\"72\" y=\"-153.8\" font-family=\"Times,serif\" font-size=\"14.00\">data 2.0000</text>\n<polyline fill=\"none\" stroke=\"black\" points=\"112,-139.5 112,-175.5 \"/>\n<text text-anchor=\"middle\" x=\"155\" y=\"-153.8\" font-family=\"Times,serif\" font-size=\"14.00\">grad &#45;1.5000</text>\n</g>\n<!-- 131986095864912&#45;&gt;131986095858896* -->\n<g id=\"edge23\" class=\"edge\">\n<title>131986095864912&#45;&gt;131986095858896*</title>\n<path fill=\"none\" stroke=\"black\" d=\"M198.37,-157.5C208.05,-157.5 217.4,-157.5 225.8,-157.5\"/>\n<polygon fill=\"black\" stroke=\"black\" points=\"225.91,-161 235.91,-157.5 225.91,-154 225.91,-161\"/>\n</g>\n<!-- 131986095854736 -->\n<g id=\"node4\" class=\"node\">\n<title>131986095854736</title>\n<polygon fill=\"none\" stroke=\"black\" points=\"1071,-83.5 1071,-119.5 1256,-119.5 1256,-83.5 1071,-83.5\"/>\n<text text-anchor=\"middle\" x=\"1082.5\" y=\"-97.8\" font-family=\"Times,serif\" font-size=\"14.00\">n</text>\n<polyline fill=\"none\" stroke=\"black\" points=\"1094,-83.5 1094,-119.5 \"/>\n<text text-anchor=\"middle\" x=\"1134\" y=\"-97.8\" font-family=\"Times,serif\" font-size=\"14.00\">data 0.8814</text>\n<polyline fill=\"none\" stroke=\"black\" points=\"1174,-83.5 1174,-119.5 \"/>\n<text text-anchor=\"middle\" x=\"1215\" y=\"-97.8\" font-family=\"Times,serif\" font-size=\"14.00\">grad 0.5000</text>\n</g>\n<!-- 131986095862736* -->\n<g id=\"node28\" class=\"node\">\n<title>131986095862736*</title>\n<ellipse fill=\"none\" stroke=\"black\" cx=\"1319\" cy=\"-73.5\" rx=\"27\" ry=\"18\"/>\n<text text-anchor=\"middle\" x=\"1319\" y=\"-69.8\" font-family=\"Times,serif\" font-size=\"14.00\">*</text>\n</g>\n<!-- 131986095854736&#45;&gt;131986095862736* -->\n<g id=\"edge11\" class=\"edge\">\n<title>131986095854736&#45;&gt;131986095862736*</title>\n<path fill=\"none\" stroke=\"black\" d=\"M1256.01,-84.81C1265.49,-83.08 1274.66,-81.41 1282.9,-79.9\"/>\n<polygon fill=\"black\" stroke=\"black\" points=\"1283.6,-83.33 1292.81,-78.09 1282.35,-76.45 1283.6,-83.33\"/>\n</g>\n<!-- 131986095854736+ -->\n<g id=\"node5\" class=\"node\">\n<title>131986095854736+</title>\n<ellipse fill=\"none\" stroke=\"black\" cx=\"1008\" cy=\"-101.5\" rx=\"27\" ry=\"18\"/>\n<text text-anchor=\"middle\" x=\"1008\" y=\"-97.8\" font-family=\"Times,serif\" font-size=\"14.00\">+</text>\n</g>\n<!-- 131986095854736+&#45;&gt;131986095854736 -->\n<g id=\"edge1\" class=\"edge\">\n<title>131986095854736+&#45;&gt;131986095854736</title>\n<path fill=\"none\" stroke=\"black\" d=\"M1035.04,-101.5C1042.58,-101.5 1051.3,-101.5 1060.57,-101.5\"/>\n<polygon fill=\"black\" stroke=\"black\" points=\"1060.81,-105 1070.81,-101.5 1060.81,-98 1060.81,-105\"/>\n</g>\n<!-- 131986095852176 -->\n<g id=\"node6\" class=\"node\">\n<title>131986095852176</title>\n<polygon fill=\"none\" stroke=\"black\" points=\"2225,-82.5 2225,-118.5 2407,-118.5 2407,-82.5 2225,-82.5\"/>\n<text text-anchor=\"middle\" x=\"2235\" y=\"-96.8\" font-family=\"Times,serif\" font-size=\"14.00\"> </text>\n<polyline fill=\"none\" stroke=\"black\" points=\"2245,-82.5 2245,-118.5 \"/>\n<text text-anchor=\"middle\" x=\"2285\" y=\"-96.8\" font-family=\"Times,serif\" font-size=\"14.00\">data 4.8284</text>\n<polyline fill=\"none\" stroke=\"black\" points=\"2325,-82.5 2325,-118.5 \"/>\n<text text-anchor=\"middle\" x=\"2366\" y=\"-96.8\" font-family=\"Times,serif\" font-size=\"14.00\">grad 0.1464</text>\n</g>\n<!-- 131986095861584* -->\n<g id=\"node24\" class=\"node\">\n<title>131986095861584*</title>\n<ellipse fill=\"none\" stroke=\"black\" cx=\"2688\" cy=\"-72.5\" rx=\"27\" ry=\"18\"/>\n<text text-anchor=\"middle\" x=\"2688\" y=\"-68.8\" font-family=\"Times,serif\" font-size=\"14.00\">*</text>\n</g>\n<!-- 131986095852176&#45;&gt;131986095861584* -->\n<g id=\"edge27\" class=\"edge\">\n<title>131986095852176&#45;&gt;131986095861584*</title>\n<path fill=\"none\" stroke=\"black\" d=\"M2407.04,-93.69C2485.41,-87.76 2594.98,-79.46 2650.96,-75.23\"/>\n<polygon fill=\"black\" stroke=\"black\" points=\"2651.39,-78.7 2661.1,-74.46 2650.86,-71.72 2651.39,-78.7\"/>\n</g>\n<!-- 131986095852176+&#45;&gt;131986095852176 -->\n<g id=\"edge2\" class=\"edge\">\n<title>131986095852176+&#45;&gt;131986095852176</title>\n<path fill=\"none\" stroke=\"black\" d=\"M1967,-100.5C2017.46,-100.5 2131.06,-100.5 2214.81,-100.5\"/>\n<polygon fill=\"black\" stroke=\"black\" points=\"2214.87,-104 2224.87,-100.5 2214.87,-97 2214.87,-104\"/>\n</g>\n<!-- 131986095859856 -->\n<g id=\"node8\" class=\"node\">\n<title>131986095859856</title>\n<polygon fill=\"none\" stroke=\"black\" points=\"2443,-31.5 2443,-67.5 2625,-67.5 2625,-31.5 2443,-31.5\"/>\n<text text-anchor=\"middle\" x=\"2453\" y=\"-45.8\" font-family=\"Times,serif\" font-size=\"14.00\"> </text>\n<polyline fill=\"none\" stroke=\"black\" points=\"2463,-31.5 2463,-67.5 \"/>\n<text text-anchor=\"middle\" x=\"2503\" y=\"-45.8\" font-family=\"Times,serif\" font-size=\"14.00\">data 0.1464</text>\n<polyline fill=\"none\" stroke=\"black\" points=\"2543,-31.5 2543,-67.5 \"/>\n<text text-anchor=\"middle\" x=\"2584\" y=\"-45.8\" font-family=\"Times,serif\" font-size=\"14.00\">grad 4.8284</text>\n</g>\n<!-- 131986095859856&#45;&gt;131986095861584* -->\n<g id=\"edge17\" class=\"edge\">\n<title>131986095859856&#45;&gt;131986095861584*</title>\n<path fill=\"none\" stroke=\"black\" d=\"M2625.18,-63.15C2634.42,-64.54 2643.38,-65.9 2651.47,-67.12\"/>\n<polygon fill=\"black\" stroke=\"black\" points=\"2651.15,-70.61 2661.56,-68.65 2652.19,-63.69 2651.15,-70.61\"/>\n</g>\n<!-- 131986095859856**&#45;1 -->\n<g id=\"node9\" class=\"node\">\n<title>131986095859856**&#45;1</title>\n<ellipse fill=\"none\" stroke=\"black\" cx=\"2316\" cy=\"-45.5\" rx=\"27\" ry=\"18\"/>\n<text text-anchor=\"middle\" x=\"2316\" y=\"-41.8\" font-family=\"Times,serif\" font-size=\"14.00\">**&#45;1</text>\n</g>\n<!-- 131986095859856**&#45;1&#45;&gt;131986095859856 -->\n<g id=\"edge3\" class=\"edge\">\n<title>131986095859856**&#45;1&#45;&gt;131986095859856</title>\n<path fill=\"none\" stroke=\"black\" d=\"M2343.05,-45.98C2365.53,-46.4 2399.48,-47.03 2432.5,-47.64\"/>\n<polygon fill=\"black\" stroke=\"black\" points=\"2432.64,-51.14 2442.7,-47.83 2432.77,-44.14 2432.64,-51.14\"/>\n</g>\n<!-- 131986095854224 -->\n<g id=\"node10\" class=\"node\">\n<title>131986095854224</title>\n<polygon fill=\"none\" stroke=\"black\" points=\"2003,-27.5 2003,-63.5 2189,-63.5 2189,-27.5 2003,-27.5\"/>\n<text text-anchor=\"middle\" x=\"2013\" y=\"-41.8\" font-family=\"Times,serif\" font-size=\"14.00\"> </text>\n<polyline fill=\"none\" stroke=\"black\" points=\"2023,-27.5 2023,-63.5 \"/>\n<text text-anchor=\"middle\" x=\"2063\" y=\"-41.8\" font-family=\"Times,serif\" font-size=\"14.00\">data 6.8284</text>\n<polyline fill=\"none\" stroke=\"black\" points=\"2103,-27.5 2103,-63.5 \"/>\n<text text-anchor=\"middle\" x=\"2146\" y=\"-41.8\" font-family=\"Times,serif\" font-size=\"14.00\">grad &#45;0.1036</text>\n</g>\n<!-- 131986095854224&#45;&gt;131986095859856**&#45;1 -->\n<g id=\"edge12\" class=\"edge\">\n<title>131986095854224&#45;&gt;131986095859856**&#45;1</title>\n<path fill=\"none\" stroke=\"black\" d=\"M2189.14,-45.5C2220.72,-45.5 2254.24,-45.5 2278.74,-45.5\"/>\n<polygon fill=\"black\" stroke=\"black\" points=\"2278.98,-49 2288.98,-45.5 2278.98,-42 2278.98,-49\"/>\n</g>\n<!-- 131986095854224+ -->\n<g id=\"node11\" class=\"node\">\n<title>131986095854224+</title>\n<ellipse fill=\"none\" stroke=\"black\" cx=\"1940\" cy=\"-45.5\" rx=\"27\" ry=\"18\"/>\n<text text-anchor=\"middle\" x=\"1940\" y=\"-41.8\" font-family=\"Times,serif\" font-size=\"14.00\">+</text>\n</g>\n<!-- 131986095854224+&#45;&gt;131986095854224 -->\n<g id=\"edge4\" class=\"edge\">\n<title>131986095854224+&#45;&gt;131986095854224</title>\n<path fill=\"none\" stroke=\"black\" d=\"M1967.12,-45.5C1974.62,-45.5 1983.29,-45.5 1992.5,-45.5\"/>\n<polygon fill=\"black\" stroke=\"black\" points=\"1992.69,-49 2002.69,-45.5 1992.69,-42 1992.69,-49\"/>\n</g>\n<!-- 131986095858896 -->\n<g id=\"node12\" class=\"node\">\n<title>131986095858896</title>\n<polygon fill=\"none\" stroke=\"black\" points=\"326,-139.5 326,-175.5 546,-175.5 546,-139.5 326,-139.5\"/>\n<text text-anchor=\"middle\" x=\"352.5\" y=\"-153.8\" font-family=\"Times,serif\" font-size=\"14.00\">x1*w1</text>\n<polyline fill=\"none\" stroke=\"black\" points=\"379,-139.5 379,-175.5 \"/>\n<text text-anchor=\"middle\" x=\"421.5\" y=\"-153.8\" font-family=\"Times,serif\" font-size=\"14.00\">data &#45;6.0000</text>\n<polyline fill=\"none\" stroke=\"black\" points=\"464,-139.5 464,-175.5 \"/>\n<text text-anchor=\"middle\" x=\"505\" y=\"-153.8\" font-family=\"Times,serif\" font-size=\"14.00\">grad 0.5000</text>\n</g>\n<!-- 131986095849936+ -->\n<g id=\"node20\" class=\"node\">\n<title>131986095849936+</title>\n<ellipse fill=\"none\" stroke=\"black\" cx=\"609\" cy=\"-129.5\" rx=\"27\" ry=\"18\"/>\n<text text-anchor=\"middle\" x=\"609\" y=\"-125.8\" font-family=\"Times,serif\" font-size=\"14.00\">+</text>\n</g>\n<!-- 131986095858896&#45;&gt;131986095849936+ -->\n<g id=\"edge25\" class=\"edge\">\n<title>131986095858896&#45;&gt;131986095849936+</title>\n<path fill=\"none\" stroke=\"black\" d=\"M546.27,-139.61C555.64,-138.07 564.6,-136.61 572.65,-135.29\"/>\n<polygon fill=\"black\" stroke=\"black\" points=\"573.35,-138.72 582.65,-133.65 572.22,-131.81 573.35,-138.72\"/>\n</g>\n<!-- 131986095858896*&#45;&gt;131986095858896 -->\n<g id=\"edge5\" class=\"edge\">\n<title>131986095858896*&#45;&gt;131986095858896</title>\n<path fill=\"none\" stroke=\"black\" d=\"M290.34,-157.5C297.77,-157.5 306.37,-157.5 315.6,-157.5\"/>\n<polygon fill=\"black\" stroke=\"black\" points=\"315.84,-161 325.84,-157.5 315.84,-154 315.84,-161\"/>\n</g>\n<!-- 131986095865040 -->\n<g id=\"node14\" class=\"node\">\n<title>131986095865040</title>\n<polygon fill=\"none\" stroke=\"black\" points=\"1690.5,-0.5 1690.5,-36.5 1876.5,-36.5 1876.5,-0.5 1690.5,-0.5\"/>\n<text text-anchor=\"middle\" x=\"1700.5\" y=\"-14.8\" font-family=\"Times,serif\" font-size=\"14.00\"> </text>\n<polyline fill=\"none\" stroke=\"black\" points=\"1710.5,-0.5 1710.5,-36.5 \"/>\n<text text-anchor=\"middle\" x=\"1750.5\" y=\"-14.8\" font-family=\"Times,serif\" font-size=\"14.00\">data 1.0000</text>\n<polyline fill=\"none\" stroke=\"black\" points=\"1790.5,-0.5 1790.5,-36.5 \"/>\n<text text-anchor=\"middle\" x=\"1833.5\" y=\"-14.8\" font-family=\"Times,serif\" font-size=\"14.00\">grad &#45;0.1036</text>\n</g>\n<!-- 131986095865040&#45;&gt;131986095854224+ -->\n<g id=\"edge20\" class=\"edge\">\n<title>131986095865040&#45;&gt;131986095854224+</title>\n<path fill=\"none\" stroke=\"black\" d=\"M1876.6,-34.6C1886.15,-36.26 1895.37,-37.88 1903.68,-39.33\"/>\n<polygon fill=\"black\" stroke=\"black\" points=\"1903.2,-42.8 1913.65,-41.07 1904.4,-35.9 1903.2,-42.8\"/>\n</g>\n<!-- 131986095865296 -->\n<g id=\"node15\" class=\"node\">\n<title>131986095865296</title>\n<polygon fill=\"none\" stroke=\"black\" points=\"328.5,-84.5 328.5,-120.5 543.5,-120.5 543.5,-84.5 328.5,-84.5\"/>\n<text text-anchor=\"middle\" x=\"355\" y=\"-98.8\" font-family=\"Times,serif\" font-size=\"14.00\">x2*w2</text>\n<polyline fill=\"none\" stroke=\"black\" points=\"381.5,-84.5 381.5,-120.5 \"/>\n<text text-anchor=\"middle\" x=\"421.5\" y=\"-98.8\" font-family=\"Times,serif\" font-size=\"14.00\">data 0.0000</text>\n<polyline fill=\"none\" stroke=\"black\" points=\"461.5,-84.5 461.5,-120.5 \"/>\n<text text-anchor=\"middle\" x=\"502.5\" y=\"-98.8\" font-family=\"Times,serif\" font-size=\"14.00\">grad 0.5000</text>\n</g>\n<!-- 131986095865296&#45;&gt;131986095849936+ -->\n<g id=\"edge26\" class=\"edge\">\n<title>131986095865296&#45;&gt;131986095849936+</title>\n<path fill=\"none\" stroke=\"black\" d=\"M543.84,-119.37C554.01,-120.98 563.76,-122.51 572.44,-123.89\"/>\n<polygon fill=\"black\" stroke=\"black\" points=\"572.05,-127.37 582.47,-125.47 573.14,-120.45 572.05,-127.37\"/>\n</g>\n<!-- 131986095865296* -->\n<g id=\"node16\" class=\"node\">\n<title>131986095865296*</title>\n<ellipse fill=\"none\" stroke=\"black\" cx=\"263\" cy=\"-102.5\" rx=\"27\" ry=\"18\"/>\n<text text-anchor=\"middle\" x=\"263\" y=\"-98.8\" font-family=\"Times,serif\" font-size=\"14.00\">*</text>\n</g>\n<!-- 131986095865296*&#45;&gt;131986095865296 -->\n<g id=\"edge6\" class=\"edge\">\n<title>131986095865296*&#45;&gt;131986095865296</title>\n<path fill=\"none\" stroke=\"black\" d=\"M290.34,-102.5C298.51,-102.5 308.08,-102.5 318.36,-102.5\"/>\n<polygon fill=\"black\" stroke=\"black\" points=\"318.39,-106 328.39,-102.5 318.39,-99 318.39,-106\"/>\n</g>\n<!-- 131986095857424 -->\n<g id=\"node17\" class=\"node\">\n<title>131986095857424</title>\n<polygon fill=\"none\" stroke=\"black\" points=\"1692.5,-55.5 1692.5,-91.5 1874.5,-91.5 1874.5,-55.5 1692.5,-55.5\"/>\n<text text-anchor=\"middle\" x=\"1702.5\" y=\"-69.8\" font-family=\"Times,serif\" font-size=\"14.00\"> </text>\n<polyline fill=\"none\" stroke=\"black\" points=\"1712.5,-55.5 1712.5,-91.5 \"/>\n<text text-anchor=\"middle\" x=\"1752.5\" y=\"-69.8\" font-family=\"Times,serif\" font-size=\"14.00\">data 5.8284</text>\n<polyline fill=\"none\" stroke=\"black\" points=\"1792.5,-55.5 1792.5,-91.5 \"/>\n<text text-anchor=\"middle\" x=\"1833.5\" y=\"-69.8\" font-family=\"Times,serif\" font-size=\"14.00\">grad 0.0429</text>\n</g>\n<!-- 131986095857424&#45;&gt;131986095852176+ -->\n<g id=\"edge19\" class=\"edge\">\n<title>131986095857424&#45;&gt;131986095852176+</title>\n<path fill=\"none\" stroke=\"black\" d=\"M1874.82,-89.28C1885.07,-91.08 1895.01,-92.81 1903.88,-94.36\"/>\n<polygon fill=\"black\" stroke=\"black\" points=\"1903.3,-97.81 1913.75,-96.09 1904.5,-90.92 1903.3,-97.81\"/>\n</g>\n<!-- 131986095857424&#45;&gt;131986095854224+ -->\n<g id=\"edge18\" class=\"edge\">\n<title>131986095857424&#45;&gt;131986095854224+</title>\n<path fill=\"none\" stroke=\"black\" d=\"M1874.82,-57.13C1885.07,-55.27 1895.01,-53.47 1903.88,-51.87\"/>\n<polygon fill=\"black\" stroke=\"black\" points=\"1904.54,-55.3 1913.75,-50.08 1903.29,-48.42 1904.54,-55.3\"/>\n</g>\n<!-- 131986095857424exp -->\n<g id=\"node18\" class=\"node\">\n<title>131986095857424exp</title>\n<ellipse fill=\"none\" stroke=\"black\" cx=\"1627\" cy=\"-73.5\" rx=\"27\" ry=\"18\"/>\n<text text-anchor=\"middle\" x=\"1627\" y=\"-69.8\" font-family=\"Times,serif\" font-size=\"14.00\">exp</text>\n</g>\n<!-- 131986095857424exp&#45;&gt;131986095857424 -->\n<g id=\"edge7\" class=\"edge\">\n<title>131986095857424exp&#45;&gt;131986095857424</title>\n<path fill=\"none\" stroke=\"black\" d=\"M1654.21,-73.5C1662.34,-73.5 1671.85,-73.5 1681.94,-73.5\"/>\n<polygon fill=\"black\" stroke=\"black\" points=\"1682.19,-77 1692.19,-73.5 1682.19,-70 1682.19,-77\"/>\n</g>\n<!-- 131986095849936 -->\n<g id=\"node19\" class=\"node\">\n<title>131986095849936</title>\n<polygon fill=\"none\" stroke=\"black\" points=\"672,-111.5 672,-147.5 945,-147.5 945,-111.5 672,-111.5\"/>\n<text text-anchor=\"middle\" x=\"725\" y=\"-125.8\" font-family=\"Times,serif\" font-size=\"14.00\">x1*w1 + x2*w2</text>\n<polyline fill=\"none\" stroke=\"black\" points=\"778,-111.5 778,-147.5 \"/>\n<text text-anchor=\"middle\" x=\"820.5\" y=\"-125.8\" font-family=\"Times,serif\" font-size=\"14.00\">data &#45;6.0000</text>\n<polyline fill=\"none\" stroke=\"black\" points=\"863,-111.5 863,-147.5 \"/>\n<text text-anchor=\"middle\" x=\"904\" y=\"-125.8\" font-family=\"Times,serif\" font-size=\"14.00\">grad 0.5000</text>\n</g>\n<!-- 131986095849936&#45;&gt;131986095854736+ -->\n<g id=\"edge28\" class=\"edge\">\n<title>131986095849936&#45;&gt;131986095854736+</title>\n<path fill=\"none\" stroke=\"black\" d=\"M936.53,-111.49C949.09,-109.71 960.99,-108.02 971.3,-106.56\"/>\n<polygon fill=\"black\" stroke=\"black\" points=\"972.03,-109.99 981.44,-105.12 971.05,-103.06 972.03,-109.99\"/>\n</g>\n<!-- 131986095849936+&#45;&gt;131986095849936 -->\n<g id=\"edge8\" class=\"edge\">\n<title>131986095849936+&#45;&gt;131986095849936</title>\n<path fill=\"none\" stroke=\"black\" d=\"M636.23,-129.5C643.7,-129.5 652.41,-129.5 661.87,-129.5\"/>\n<polygon fill=\"black\" stroke=\"black\" points=\"661.98,-133 671.98,-129.5 661.98,-126 661.98,-133\"/>\n</g>\n<!-- 131986095860496 -->\n<g id=\"node21\" class=\"node\">\n<title>131986095860496</title>\n<polygon fill=\"none\" stroke=\"black\" points=\"4,-84.5 4,-120.5 196,-120.5 196,-84.5 4,-84.5\"/>\n<text text-anchor=\"middle\" x=\"19\" y=\"-98.8\" font-family=\"Times,serif\" font-size=\"14.00\">x2</text>\n<polyline fill=\"none\" stroke=\"black\" points=\"34,-84.5 34,-120.5 \"/>\n<text text-anchor=\"middle\" x=\"74\" y=\"-98.8\" font-family=\"Times,serif\" font-size=\"14.00\">data 0.0000</text>\n<polyline fill=\"none\" stroke=\"black\" points=\"114,-84.5 114,-120.5 \"/>\n<text text-anchor=\"middle\" x=\"155\" y=\"-98.8\" font-family=\"Times,serif\" font-size=\"14.00\">grad 0.5000</text>\n</g>\n<!-- 131986095860496&#45;&gt;131986095865296* -->\n<g id=\"edge15\" class=\"edge\">\n<title>131986095860496&#45;&gt;131986095865296*</title>\n<path fill=\"none\" stroke=\"black\" d=\"M196.05,-102.5C206.52,-102.5 216.65,-102.5 225.71,-102.5\"/>\n<polygon fill=\"black\" stroke=\"black\" points=\"225.79,-106 235.79,-102.5 225.79,-99 225.79,-106\"/>\n</g>\n<!-- 131986095864592 -->\n<g id=\"node22\" class=\"node\">\n<title>131986095864592</title>\n<polygon fill=\"none\" stroke=\"black\" points=\"1072.5,-28.5 1072.5,-64.5 1254.5,-64.5 1254.5,-28.5 1072.5,-28.5\"/>\n<text text-anchor=\"middle\" x=\"1082.5\" y=\"-42.8\" font-family=\"Times,serif\" font-size=\"14.00\"> </text>\n<polyline fill=\"none\" stroke=\"black\" points=\"1092.5,-28.5 1092.5,-64.5 \"/>\n<text text-anchor=\"middle\" x=\"1132.5\" y=\"-42.8\" font-family=\"Times,serif\" font-size=\"14.00\">data 2.0000</text>\n<polyline fill=\"none\" stroke=\"black\" points=\"1172.5,-28.5 1172.5,-64.5 \"/>\n<text text-anchor=\"middle\" x=\"1213.5\" y=\"-42.8\" font-family=\"Times,serif\" font-size=\"14.00\">grad 0.2203</text>\n</g>\n<!-- 131986095864592&#45;&gt;131986095862736* -->\n<g id=\"edge14\" class=\"edge\">\n<title>131986095864592&#45;&gt;131986095862736*</title>\n<path fill=\"none\" stroke=\"black\" d=\"M1254.68,-62.36C1264.61,-64.11 1274.23,-65.8 1282.84,-67.32\"/>\n<polygon fill=\"black\" stroke=\"black\" points=\"1282.36,-70.78 1292.81,-69.07 1283.57,-63.89 1282.36,-70.78\"/>\n</g>\n<!-- 131986095861584 -->\n<g id=\"node23\" class=\"node\">\n<title>131986095861584</title>\n<polygon fill=\"none\" stroke=\"black\" points=\"2751,-54.5 2751,-90.5 2936,-90.5 2936,-54.5 2751,-54.5\"/>\n<text text-anchor=\"middle\" x=\"2762.5\" y=\"-68.8\" font-family=\"Times,serif\" font-size=\"14.00\">o</text>\n<polyline fill=\"none\" stroke=\"black\" points=\"2774,-54.5 2774,-90.5 \"/>\n<text text-anchor=\"middle\" x=\"2814\" y=\"-68.8\" font-family=\"Times,serif\" font-size=\"14.00\">data 0.7071</text>\n<polyline fill=\"none\" stroke=\"black\" points=\"2854,-54.5 2854,-90.5 \"/>\n<text text-anchor=\"middle\" x=\"2895\" y=\"-68.8\" font-family=\"Times,serif\" font-size=\"14.00\">grad 1.0000</text>\n</g>\n<!-- 131986095861584*&#45;&gt;131986095861584 -->\n<g id=\"edge9\" class=\"edge\">\n<title>131986095861584*&#45;&gt;131986095861584</title>\n<path fill=\"none\" stroke=\"black\" d=\"M2715.04,-72.5C2722.58,-72.5 2731.3,-72.5 2740.57,-72.5\"/>\n<polygon fill=\"black\" stroke=\"black\" points=\"2740.81,-76 2750.81,-72.5 2740.81,-69 2740.81,-76\"/>\n</g>\n<!-- 131986095863632 -->\n<g id=\"node25\" class=\"node\">\n<title>131986095863632</title>\n<polygon fill=\"none\" stroke=\"black\" points=\"716,-56.5 716,-92.5 901,-92.5 901,-56.5 716,-56.5\"/>\n<text text-anchor=\"middle\" x=\"727.5\" y=\"-70.8\" font-family=\"Times,serif\" font-size=\"14.00\">b</text>\n<polyline fill=\"none\" stroke=\"black\" points=\"739,-56.5 739,-92.5 \"/>\n<text text-anchor=\"middle\" x=\"779\" y=\"-70.8\" font-family=\"Times,serif\" font-size=\"14.00\">data 6.8814</text>\n<polyline fill=\"none\" stroke=\"black\" points=\"819,-56.5 819,-92.5 \"/>\n<text text-anchor=\"middle\" x=\"860\" y=\"-70.8\" font-family=\"Times,serif\" font-size=\"14.00\">grad 0.5000</text>\n</g>\n<!-- 131986095863632&#45;&gt;131986095854736+ -->\n<g id=\"edge21\" class=\"edge\">\n<title>131986095863632&#45;&gt;131986095854736+</title>\n<path fill=\"none\" stroke=\"black\" d=\"M901.02,-87.01C926,-90.43 951.59,-93.93 971.37,-96.63\"/>\n<polygon fill=\"black\" stroke=\"black\" points=\"971.05,-100.12 981.43,-98.01 972,-93.18 971.05,-100.12\"/>\n</g>\n<!-- 131986095862608 -->\n<g id=\"node26\" class=\"node\">\n<title>131986095862608</title>\n<polygon fill=\"none\" stroke=\"black\" points=\"2.5,-29.5 2.5,-65.5 197.5,-65.5 197.5,-29.5 2.5,-29.5\"/>\n<text text-anchor=\"middle\" x=\"19\" y=\"-43.8\" font-family=\"Times,serif\" font-size=\"14.00\">w2</text>\n<polyline fill=\"none\" stroke=\"black\" points=\"35.5,-29.5 35.5,-65.5 \"/>\n<text text-anchor=\"middle\" x=\"75.5\" y=\"-43.8\" font-family=\"Times,serif\" font-size=\"14.00\">data 1.0000</text>\n<polyline fill=\"none\" stroke=\"black\" points=\"115.5,-29.5 115.5,-65.5 \"/>\n<text text-anchor=\"middle\" x=\"156.5\" y=\"-43.8\" font-family=\"Times,serif\" font-size=\"14.00\">grad 0.0000</text>\n</g>\n<!-- 131986095862608&#45;&gt;131986095865296* -->\n<g id=\"edge13\" class=\"edge\">\n<title>131986095862608&#45;&gt;131986095865296*</title>\n<path fill=\"none\" stroke=\"black\" d=\"M172.53,-65.56C181.84,-68.33 191.2,-71.33 200,-74.5 210.53,-78.29 221.75,-83.1 231.72,-87.67\"/>\n<polygon fill=\"black\" stroke=\"black\" points=\"230.28,-90.86 240.82,-91.93 233.25,-84.52 230.28,-90.86\"/>\n</g>\n<!-- 131986095862736 -->\n<g id=\"node27\" class=\"node\">\n<title>131986095862736</title>\n<polygon fill=\"none\" stroke=\"black\" points=\"1382,-55.5 1382,-91.5 1564,-91.5 1564,-55.5 1382,-55.5\"/>\n<text text-anchor=\"middle\" x=\"1392\" y=\"-69.8\" font-family=\"Times,serif\" font-size=\"14.00\"> </text>\n<polyline fill=\"none\" stroke=\"black\" points=\"1402,-55.5 1402,-91.5 \"/>\n<text text-anchor=\"middle\" x=\"1442\" y=\"-69.8\" font-family=\"Times,serif\" font-size=\"14.00\">data 1.7627</text>\n<polyline fill=\"none\" stroke=\"black\" points=\"1482,-55.5 1482,-91.5 \"/>\n<text text-anchor=\"middle\" x=\"1523\" y=\"-69.8\" font-family=\"Times,serif\" font-size=\"14.00\">grad 0.2500</text>\n</g>\n<!-- 131986095862736&#45;&gt;131986095857424exp -->\n<g id=\"edge22\" class=\"edge\">\n<title>131986095862736&#45;&gt;131986095857424exp</title>\n<path fill=\"none\" stroke=\"black\" d=\"M1564.18,-73.5C1573.14,-73.5 1581.83,-73.5 1589.73,-73.5\"/>\n<polygon fill=\"black\" stroke=\"black\" points=\"1589.96,-77 1599.96,-73.5 1589.96,-70 1589.96,-77\"/>\n</g>\n<!-- 131986095862736*&#45;&gt;131986095862736 -->\n<g id=\"edge10\" class=\"edge\">\n<title>131986095862736*&#45;&gt;131986095862736</title>\n<path fill=\"none\" stroke=\"black\" d=\"M1346.13,-73.5C1353.67,-73.5 1362.39,-73.5 1371.64,-73.5\"/>\n<polygon fill=\"black\" stroke=\"black\" points=\"1371.87,-77 1381.87,-73.5 1371.87,-70 1371.87,-77\"/>\n</g>\n</g>\n</svg>\n",
            "text/plain": [
              "<graphviz.graphs.Digraph at 0x780a685bfed0>"
            ]
          },
          "metadata": {},
          "execution_count": 223
        }
      ],
      "source": [
        "# inputs x1,x2\n",
        "x1 = Value(2.0, label='x1')\n",
        "x2 = Value(0.0, label='x2')\n",
        "# weights w1,w2\n",
        "w1 = Value(-3.0, label='w1')\n",
        "w2 = Value(1.0, label='w2')\n",
        "# bias of the neuron\n",
        "b = Value(6.8813735870195432, label='b')\n",
        "# x1*w1 + x2*w2 + b\n",
        "x1w1 = x1*w1; x1w1.label = 'x1*w1'\n",
        "x2w2 = x2*w2; x2w2.label = 'x2*w2'\n",
        "x1w1x2w2 = x1w1 + x2w2; x1w1x2w2.label = 'x1*w1 + x2*w2'\n",
        "n = x1w1x2w2 + b; n.label = 'n'\n",
        "\n",
        "# ----------------------------\n",
        "#o = n.tanh(); o.label = 'o'\n",
        "\n",
        "e = (2*n).exp()\n",
        "o = (e - 1) / (e + 1)\n",
        "o.label = 'o'\n",
        "# ----------------------------\n",
        "\n",
        "o.grad = 1.0\n",
        "o.backward()\n",
        "\n",
        "draw_dot(o)"
      ]
    },
    {
      "cell_type": "code",
      "execution_count": null,
      "metadata": {
        "colab": {
          "base_uri": "https://localhost:8080/"
        },
        "id": "bul_czwT4yNG",
        "outputId": "b792abcb-e1fc-4a82-c44b-ced6c6af9875"
      },
      "outputs": [
        {
          "output_type": "stream",
          "name": "stdout",
          "text": [
            "0 4.526483941123621\n",
            "1 3.441674551038464\n",
            "2 2.9256483517633187\n",
            "3 2.3774632670476423\n",
            "4 1.6993879883266159\n",
            "5 1.3499967399737398\n",
            "6 0.4853364623965683\n",
            "7 0.08067611692562263\n",
            "8 0.06830857029130519\n",
            "9 0.05932654483187215\n",
            "10 0.0524293494534889\n",
            "11 0.046940065133649005\n",
            "12 0.042458438764707014\n",
            "13 0.03872758315054931\n",
            "14 0.03557303645987406\n",
            "15 0.032871308756186\n",
            "16 0.030532163275356163\n",
            "17 0.028487962881134088\n",
            "18 0.026686935727634118\n",
            "19 0.025088746354447623\n"
          ]
        }
      ],
      "source": [
        "n = MLP(3, [4, 4, 1])\n",
        "\n",
        "xs = [\n",
        "  [2.0, 3.0, -1.0],\n",
        "  [3.0, -1.0, 0.5],\n",
        "  [0.5, 1.0, 1.0],\n",
        "  [1.0, 1.0, -1.0],\n",
        "]\n",
        "ys = [1.0, -1.0, -1.0, 1.0] # desired targets\n",
        "\n",
        "for k in range(20):\n",
        "\n",
        "  # forward pass\n",
        "  ypred = [n(x) for x in xs]\n",
        "  loss = sum((yout - ygt)**2 for ygt, yout in zip(ys, ypred))\n",
        "\n",
        "  # backward pass\n",
        "  for p in n.parameters():\n",
        "    p.grad = 0.0\n",
        "  loss.backward()\n",
        "\n",
        "  # update\n",
        "  for p in n.parameters():\n",
        "    p.data += -0.1 * p.grad\n",
        "\n",
        "  print(k, loss.data)"
      ]
    },
    {
      "cell_type": "code",
      "execution_count": null,
      "metadata": {
        "colab": {
          "base_uri": "https://localhost:8080/"
        },
        "id": "__FG9YY_5lwB",
        "outputId": "0dc8c833-408d-4d54-acaf-b9fa201a68db"
      },
      "outputs": [
        {
          "output_type": "execute_result",
          "data": {
            "text/plain": [
              "[Value(data=0.9348104731320245),\n",
              " Value(data=-0.9254710246999849),\n",
              " Value(data=-0.9204002924823499),\n",
              " Value(data=0.905404068031382)]"
            ]
          },
          "metadata": {},
          "execution_count": 225
        }
      ],
      "source": [
        "ypred"
      ]
    }
  ],
  "metadata": {
    "colab": {
      "provenance": [],
      "authorship_tag": "ABX9TyM/WBz2v/xj6+AhyEqqZ32E",
      "include_colab_link": true
    },
    "kernelspec": {
      "display_name": "Python 3",
      "name": "python3"
    },
    "language_info": {
      "name": "python"
    }
  },
  "nbformat": 4,
  "nbformat_minor": 0
}